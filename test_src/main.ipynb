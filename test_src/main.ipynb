{
 "cells": [
  {
   "cell_type": "code",
   "execution_count": null,
   "id": "80fe2356-7282-404b-9a0a-6114e59622b1",
   "metadata": {},
   "outputs": [],
   "source": [
    "import os\n",
    "import arguments\n",
    "import mydata\n",
    "import bayesian_analysis\n",
    "import output\n",
    "\n",
    "def main():\n",
    "    # 使用参数解析模块获取命令行参数\n",
    "    args = arguments.parse_arguments()\n",
    "\n",
    "    k = args.k\n",
    "    mantissa = args.mantissa\n",
    "    exponent = args.exponent\n",
    "    job_name = args.job_name\n",
    "\n",
    "    total = int(mantissa * 10**exponent)\n",
    "    draws = total //2\n",
    "    tune = total // 2\n",
    "\n",
    "    # 构建完整的输出目录路径\n",
    "    output_directory = os.path.join(\"../data\", job_name)\n",
    "\n",
    "    # 确保输出目录存在，如果不存在则创建它\n",
    "    os.makedirs(output_directory, exist_ok=True)\n",
    "\n",
    "    # 重定向输出结果到文件\n",
    "    output.redirect_output(output_directory)\n",
    "\n",
    "    # 调用数据导入和预处理模块\n",
    "    ages, zircons_data = mydata.process_data()\n",
    "\n",
    "    # 调用贝叶斯分析模块，传递处理完的数据\n",
    "    bayesian_analysis.perform_bayesian_analysis(k, tune, draws, ages, zircons_data, output_directory)\n",
    "\n",
    "    # 调用后处理模块\n",
    "    postprocessing.post_process(output_directory)\n",
    "\n",
    "    # 恢复标准输出\n",
    "    output.restore_output()\n",
    "\n",
    "if __name__ == \"__main__\":\n",
    "    main()"
   ]
  }
 ],
 "metadata": {
  "kernelspec": {
   "display_name": "Python 3 (ipykernel)",
   "language": "python",
   "name": "python3"
  },
  "language_info": {
   "codemirror_mode": {
    "name": "ipython",
    "version": 3
   },
   "file_extension": ".py",
   "mimetype": "text/x-python",
   "name": "python",
   "nbconvert_exporter": "python",
   "pygments_lexer": "ipython3",
   "version": "3.11.4"
  }
 },
 "nbformat": 4,
 "nbformat_minor": 5
}
