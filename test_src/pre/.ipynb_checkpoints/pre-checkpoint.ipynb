{
 "cells": [
  {
   "cell_type": "code",
   "execution_count": null,
   "id": "19637659-1ae0-413d-b09f-86cfb9c6b17c",
   "metadata": {},
   "outputs": [],
   "source": [
    "import pandas as pd\n",
    "from matplotlib import pyplot as plt\n",
    "\n",
    "def process_data():\n",
    "    # 加载数据\n",
    "    df = pd.read_csv('/lustre/home/hangqian/projects/data/zircons/Roberts_Spencer_2015.csv')\n",
    "    years = df[\"U-Pb (Ma)\"]\n",
    "\n",
    "    # 绘制直方图\n",
    "    data = plt.hist(years, bins=200)\n",
    "    zircons_data = data[0]\n",
    "    ages = data[1][1:]\n",
    "\n",
    "    return ages, zircons_data"
   ]
  }
 ],
 "metadata": {
  "kernelspec": {
   "display_name": "Python 3 (ipykernel)",
   "language": "python",
   "name": "python3"
  },
  "language_info": {
   "codemirror_mode": {
    "name": "ipython",
    "version": 3
   },
   "file_extension": ".py",
   "mimetype": "text/x-python",
   "name": "python",
   "nbconvert_exporter": "python",
   "pygments_lexer": "ipython3",
   "version": "3.11.4"
  }
 },
 "nbformat": 4,
 "nbformat_minor": 5
}
