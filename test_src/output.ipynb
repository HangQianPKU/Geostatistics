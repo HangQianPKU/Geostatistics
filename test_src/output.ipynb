{
 "cells": [
  {
   "cell_type": "code",
   "execution_count": null,
   "id": "36115577-f473-4c6a-9e0f-7f9f279b103f",
   "metadata": {},
   "outputs": [],
   "source": [
    "import os\n",
    "import sys\n",
    "import pickle\n",
    "import matplotlib.pyplot as plt\n",
    "\n",
    "def redirect_output(output_directory):\n",
    "    # 将所有输出重定向到指定目录下的文件\n",
    "    sys.stdout = open(os.path.join(output_directory, \"all_output.txt\"), 'w')\n",
    "\n",
    "def restore_output():\n",
    "    # 关闭重定向，恢复标准输出\n",
    "    sys.stdout.close()\n",
    "    sys.stdout = sys.__stdout__\n",
    "\n",
    "def save_histogram(ages, zircons_data, output_directory):\n",
    "    # 绘制直方图\n",
    "    data = plt.hist(ages, bins=200)\n",
    "    plt.xlabel('Ages (Ma)')\n",
    "    plt.ylabel('Frequency')\n",
    "    plt.title('Histogram of Zircon Ages')\n",
    "    plt.grid(True)\n",
    "\n",
    "    # 保存直方图到指定目录\n",
    "    plt.savefig(os.path.join(output_directory, 'histogram.png'))\n",
    "\n",
    "def save_scatter_plot(ages, zircons_data, output_directory):\n",
    "    # 绘制散点图\n",
    "    plt.plot(ages, zircons_data, \"o\", markersize=3, alpha=1)\n",
    "    plt.ylabel(\"Zircons count\")\n",
    "    plt.xlabel(\"Ages\")\n",
    "\n",
    "    # 保存散点图到指定目录\n",
    "    plt.savefig(os.path.join(output_directory, 'scatter_plot.png'))\n",
    "\n",
    "def save_trace(trace, output_directory):\n",
    "    # 构建 trace 文件的完整路径\n",
    "    trace_output_path = os.path.join(output_directory, \"trace\")\n",
    "\n",
    "    # 将采样结果 trace 序列化后输出到指定路径\n",
    "    with open(trace_output_path, 'wb') as f:\n",
    "        pickle.dump(trace, f)\n"
   ]
  }
 ],
 "metadata": {
  "kernelspec": {
   "display_name": "Python 3 (ipykernel)",
   "language": "python",
   "name": "python3"
  },
  "language_info": {
   "codemirror_mode": {
    "name": "ipython",
    "version": 3
   },
   "file_extension": ".py",
   "mimetype": "text/x-python",
   "name": "python",
   "nbconvert_exporter": "python",
   "pygments_lexer": "ipython3",
   "version": "3.11.4"
  }
 },
 "nbformat": 4,
 "nbformat_minor": 5
}
