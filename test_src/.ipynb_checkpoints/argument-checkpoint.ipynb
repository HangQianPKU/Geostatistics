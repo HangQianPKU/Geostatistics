{
 "cells": [
  {
   "cell_type": "code",
   "execution_count": null,
   "id": "eedb6d19-1f2f-48ae-9a0c-7b979480b63c",
   "metadata": {},
   "outputs": [],
   "source": [
    "import argparse\n",
    "\n",
    "def parse_arguments():\n",
    "    parser = argparse.ArgumentParser(description=\"Your Script Description\")\n",
    "\n",
    "    parser.add_argument('--k', type=int, help=\"An int parameter, the number of switchpoints\")\n",
    "    parser.add_argument('--mantissa', type=float, help=\"A floating-point parameter, the mantissa of draws of MCMC, including tunes\")\n",
    "    parser.add_argument('--exponent', type=int, help=\"An int parameter, the exponent of draws of MCMC, including tunes\")\n",
    "    parser.add_argument('--job_name', type=str, help=\"A str parameter, the name of job(and name of PATH to the output data)\")\n",
    "\n",
    "    return parser.parse_args()\n"
   ]
  }
 ],
 "metadata": {
  "kernelspec": {
   "display_name": "Python 3 (ipykernel)",
   "language": "python",
   "name": "python3"
  },
  "language_info": {
   "codemirror_mode": {
    "name": "ipython",
    "version": 3
   },
   "file_extension": ".py",
   "mimetype": "text/x-python",
   "name": "python",
   "nbconvert_exporter": "python",
   "pygments_lexer": "ipython3",
   "version": "3.11.4"
  }
 },
 "nbformat": 4,
 "nbformat_minor": 5
}
