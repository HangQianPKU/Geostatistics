{
 "cells": [
  {
   "cell_type": "code",
   "execution_count": null,
   "id": "3a5cc556-33d1-415f-bc46-80bea404acd5",
   "metadata": {},
   "outputs": [],
   "source": [
    "import numpy as np\n",
    "import pymc as pm\n",
    "\n",
    "def perform_bayesian_analysis(k, tune, draws, ages, zircons_data, output_directory):\n",
    "    # 使用PyMC建立模型\n",
    "    with pm.Model() as model:\n",
    "        rates = pm.Exponential(\"rates\", 1.0, shape=k + 1)\n",
    "        switchpoints = pm.Uniform(\"switchpoints\", lower=0, upper=max(ages), shape=k, transform=Order, initval=np.linspace(0 + 5, max(ages) - 5, k))\n",
    "        rate = rates[0]\n",
    "        for i in range(k):\n",
    "            rate = pm.math.switch(switchpoints[i] >= ages, rate, rates[i + 1])\n",
    "        disasters = pm.Poisson(\"counts\", rate, observed=zircons_data)\n",
    "        trace = pm.sample(tune=tune, draws=draws, cores=4)\n",
    "\n",
    "    # 构建 trace 文件的完整路径\n",
    "    trace_output_path = os.path.join(output_directory, \"trace\")\n",
    "\n",
    "    # 将采样结果 trace 序列化后输出到指定路径\n",
    "    with open(trace_output_path, 'wb') as f:\n",
    "        pickle.dump(trace, f)\n"
   ]
  }
 ],
 "metadata": {
  "kernelspec": {
   "display_name": "Python 3 (ipykernel)",
   "language": "python",
   "name": "python3"
  },
  "language_info": {
   "codemirror_mode": {
    "name": "ipython",
    "version": 3
   },
   "file_extension": ".py",
   "mimetype": "text/x-python",
   "name": "python",
   "nbconvert_exporter": "python",
   "pygments_lexer": "ipython3",
   "version": "3.11.4"
  }
 },
 "nbformat": 4,
 "nbformat_minor": 5
}
