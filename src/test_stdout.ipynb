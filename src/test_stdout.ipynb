{
 "cells": [
  {
   "cell_type": "code",
   "execution_count": 3,
   "id": "8ef0928a-8822-4272-808d-c76f54352b5a",
   "metadata": {},
   "outputs": [
    {
     "name": "stdout",
     "output_type": "stream",
     "text": [
      "成功将数据保存到文件 '/lustre/home/hangqian/projects/output.txt'\n"
     ]
    }
   ],
   "source": [
    "import os\n",
    "\n",
    "def generate_and_save_data(dest_path):\n",
    "    # 生成一些示例数据\n",
    "    data = \"\"\"This is some example data that we want to save as a file.\n",
    "    You can replace this with your own data.\"\"\"\n",
    "\n",
    "    try:\n",
    "        # 创建目标目录（如果不存在）\n",
    "        os.makedirs(dest_path, exist_ok=True)\n",
    "\n",
    "        # 构建目标文件的完整路径\n",
    "        dest_file = os.path.join(dest_path, \"output.txt\")\n",
    "\n",
    "        # 打开目标文件并写入数据\n",
    "        with open(dest_file, 'w') as file:\n",
    "            file.write(data)\n",
    "\n",
    "        print(f\"成功将数据保存到文件 '{dest_file}'\")\n",
    "    except Exception as e:\n",
    "        print(f\"保存文件时发生错误: {e}\")\n",
    "\n",
    "if __name__ == \"__main__\":\n",
    "    # 定义目标路径\n",
    "    destination_path = \"..\"  # 将此处的路径替换为你要保存文件的目标文件夹路径\n",
    "\n",
    "    # 调用函数生成并保存数据\n",
    "    generate_and_save_data(destination_path)\n"
   ]
  }
 ],
 "metadata": {
  "kernelspec": {
   "display_name": "Python 3 (ipykernel)",
   "language": "python",
   "name": "python3"
  },
  "language_info": {
   "codemirror_mode": {
    "name": "ipython",
    "version": 3
   },
   "file_extension": ".py",
   "mimetype": "text/x-python",
   "name": "python",
   "nbconvert_exporter": "python",
   "pygments_lexer": "ipython3",
   "version": "3.11.4"
  }
 },
 "nbformat": 4,
 "nbformat_minor": 5
}
