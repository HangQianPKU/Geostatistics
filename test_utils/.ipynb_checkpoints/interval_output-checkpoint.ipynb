{
 "cells": [
  {
   "cell_type": "code",
   "execution_count": 6,
   "id": "43efb874-4378-48e3-b69f-5ab979df1637",
   "metadata": {},
   "outputs": [],
   "source": [
    "import os\n",
    "import sys\n",
    "\n",
    "#用于限制输出文件的大小，每隔chunk_size个标准输出才给一个输出到all_output文件\n",
    "class CustomStdoutWrapper:\n",
    "    def __init__(self, output_directory, chunk_size=1000):\n",
    "        self.output_directory = output_directory\n",
    "        self.chunk_size = chunk_size\n",
    "        self.count = 0\n",
    "        self.buffer = []\n",
    "        self.create_output_directory(output_directory)\n",
    "\n",
    "    def create_output_directory(self, directory):\n",
    "        if not os.path.exists(directory):\n",
    "            os.makedirs(directory)\n",
    "\n",
    "    def write(self, text):\n",
    "        #self.buffer.append(text)\n",
    "        if self.count == 0:\n",
    "            self.buffer.append(text)\n",
    "        self.count += 1\n",
    "        if self.count == self.chunk_size:\n",
    "            self.flush()\n",
    "\n",
    "    def flush(self):\n",
    "        if self.buffer:\n",
    "            output_file_path = os.path.join(self.output_directory,\"output.txt\")\n",
    "            with open(output_file_path, 'a') as output_file:\n",
    "                output_file.writelines(self.buffer)\n",
    "            self.buffer = []\n",
    "            self.count = 0\n",
    "\n",
    "# 测试实例，每个1000次将会将一个输出写入测试路径的文件\n",
    "\n",
    "if __name__ == \"__main__\":\n",
    "    output_directory ='./interval_output_test'\n",
    "    chunk_size = 2000 # 不知道为啥，实际的间隔是我设置的一半（预计是write被调用了两次，但为啥不知道）\n",
    "    custom_stdout = CustomStdoutWrapper(output_directory, chunk_size)\n",
    "    sys.stdout = custom_stdout\n",
    "    for i in range(10001):\n",
    "        print(f\"This is output{i}\")\n",
    "\n",
    "    # 确保最后的输出被写入\n",
    "    custom_stdout.flush()"
   ]
  },
  {
   "cell_type": "code",
   "execution_count": null,
   "id": "8b290dc6-661e-4fec-ad88-de2c098674a1",
   "metadata": {},
   "outputs": [],
   "source": []
  }
 ],
 "metadata": {
  "kernelspec": {
   "display_name": "Python 3 (ipykernel)",
   "language": "python",
   "name": "python3"
  },
  "language_info": {
   "codemirror_mode": {
    "name": "ipython",
    "version": 3
   },
   "file_extension": ".py",
   "mimetype": "text/x-python",
   "name": "python",
   "nbconvert_exporter": "python",
   "pygments_lexer": "ipython3",
   "version": "3.11.4"
  }
 },
 "nbformat": 4,
 "nbformat_minor": 5
}
