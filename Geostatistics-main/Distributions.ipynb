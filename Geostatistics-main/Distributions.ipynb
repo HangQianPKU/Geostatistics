{
 "cells": [
  {
   "cell_type": "markdown",
   "id": "4caccbeb",
   "metadata": {},
   "source": [
    "## Implementing a RandomVariables Distributions"
   ]
  },
  {
   "cell_type": "code",
   "execution_count": 2,
   "id": "a08c9ac4",
   "metadata": {},
   "outputs": [
    {
     "ename": "NameError",
     "evalue": "name 'np' is not defined",
     "output_type": "error",
     "traceback": [
      "\u001b[1;31m---------------------------------------------------------------------------\u001b[0m",
      "\u001b[1;31mNameError\u001b[0m                                 Traceback (most recent call last)",
      "Cell \u001b[1;32mIn[2], line 6\u001b[0m\n\u001b[0;32m      3\u001b[0m \u001b[38;5;28;01mfrom\u001b[39;00m \u001b[38;5;21;01mtyping\u001b[39;00m \u001b[38;5;28;01mimport\u001b[39;00m List, Tuple\n\u001b[0;32m      5\u001b[0m \u001b[38;5;66;03m# Create your own `RandomVariable`...\u001b[39;00m\n\u001b[1;32m----> 6\u001b[0m \u001b[38;5;28;43;01mclass\u001b[39;49;00m\u001b[43m \u001b[49m\u001b[38;5;21;43;01mBlahRV\u001b[39;49;00m\u001b[43m(\u001b[49m\u001b[43mRandomVariable\u001b[49m\u001b[43m)\u001b[49m\u001b[43m:\u001b[49m\n\u001b[0;32m      7\u001b[0m \u001b[43m    \u001b[49m\u001b[43mname\u001b[49m\u001b[43m:\u001b[49m\u001b[43m \u001b[49m\u001b[38;5;28;43mstr\u001b[39;49m\u001b[43m \u001b[49m\u001b[38;5;241;43m=\u001b[39;49m\u001b[43m \u001b[49m\u001b[38;5;124;43m\"\u001b[39;49m\u001b[38;5;124;43mblah\u001b[39;49m\u001b[38;5;124;43m\"\u001b[39;49m\n\u001b[0;32m      9\u001b[0m \u001b[43m    \u001b[49m\u001b[38;5;66;43;03m# Provide the minimum number of (output) dimensions for this RV\u001b[39;49;00m\n\u001b[0;32m     10\u001b[0m \u001b[43m    \u001b[49m\u001b[38;5;66;43;03m# (e.g. `0` for a scalar, `1` for a vector, etc.)\u001b[39;49;00m\n",
      "Cell \u001b[1;32mIn[2], line 39\u001b[0m, in \u001b[0;36mBlahRV\u001b[1;34m()\u001b[0m\n\u001b[0;32m     29\u001b[0m     \u001b[38;5;28;01mreturn\u001b[39;00m \u001b[38;5;28msuper\u001b[39m()\u001b[38;5;241m.\u001b[39m\u001b[38;5;21m__call__\u001b[39m(loc, scale, \u001b[38;5;241m*\u001b[39m\u001b[38;5;241m*\u001b[39mkwargs)\n\u001b[0;32m     31\u001b[0m \u001b[38;5;66;03m# This is the Python code that produces samples.  Its signature will always\u001b[39;00m\n\u001b[0;32m     32\u001b[0m \u001b[38;5;66;03m# start with a NumPy `RandomState` object, then the distribution\u001b[39;00m\n\u001b[0;32m     33\u001b[0m \u001b[38;5;66;03m# parameters, and, finally, the size.\u001b[39;00m\n\u001b[0;32m     34\u001b[0m \u001b[38;5;66;03m#\u001b[39;00m\n\u001b[0;32m     35\u001b[0m \u001b[38;5;66;03m# This is effectively the PyMC >=4.0 replacement for `Distribution.random`.\u001b[39;00m\n\u001b[0;32m     36\u001b[0m \u001b[38;5;129m@classmethod\u001b[39m\n\u001b[0;32m     37\u001b[0m \u001b[38;5;28;01mdef\u001b[39;00m \u001b[38;5;21mrng_fn\u001b[39m(\n\u001b[0;32m     38\u001b[0m     \u001b[38;5;28mcls\u001b[39m,\n\u001b[1;32m---> 39\u001b[0m     rng: \u001b[43mnp\u001b[49m\u001b[38;5;241m.\u001b[39mrandom\u001b[38;5;241m.\u001b[39mRandomState,\n\u001b[0;32m     40\u001b[0m     loc: np\u001b[38;5;241m.\u001b[39mndarray,\n\u001b[0;32m     41\u001b[0m     scale: np\u001b[38;5;241m.\u001b[39mndarray,\n\u001b[0;32m     42\u001b[0m     size: Tuple[\u001b[38;5;28mint\u001b[39m, \u001b[38;5;241m.\u001b[39m\u001b[38;5;241m.\u001b[39m\u001b[38;5;241m.\u001b[39m],\n\u001b[0;32m     43\u001b[0m ) \u001b[38;5;241m-\u001b[39m\u001b[38;5;241m>\u001b[39m np\u001b[38;5;241m.\u001b[39mndarray:\n\u001b[0;32m     44\u001b[0m     \u001b[38;5;28;01mreturn\u001b[39;00m scipy\u001b[38;5;241m.\u001b[39mstats\u001b[38;5;241m.\u001b[39mblah\u001b[38;5;241m.\u001b[39mrvs(loc, scale, random_state\u001b[38;5;241m=\u001b[39mrng, size\u001b[38;5;241m=\u001b[39msize)\n",
      "\u001b[1;31mNameError\u001b[0m: name 'np' is not defined"
     ]
    }
   ],
   "source": [
    "from pytensor.tensor.var import TensorVariable\n",
    "from pytensor.tensor.random.op import RandomVariable\n",
    "from typing import List, Tuple\n",
    "\n",
    "# Create your own `RandomVariable`...\n",
    "class BlahRV(RandomVariable):\n",
    "    name: str = \"blah\"\n",
    "\n",
    "    # Provide the minimum number of (output) dimensions for this RV\n",
    "    # (e.g. `0` for a scalar, `1` for a vector, etc.)\n",
    "    ndim_supp: int = 0\n",
    "\n",
    "    # Provide the number of (input) dimensions for each parameter of the RV\n",
    "    # (e.g. if there's only one vector parameter, `[1]`; for two parameters,\n",
    "    # one a matrix and the other a scalar, `[2, 0]`; etc.)\n",
    "    ndims_params: List[int] = [0, 0]\n",
    "\n",
    "    # The NumPy/PyTensor dtype for this RV (e.g. `\"int32\"`, `\"int64\"`).\n",
    "    # The standard in the library is `\"int64\"` for discrete variables\n",
    "    # and `\"floatX\"` for continuous variables\n",
    "    dtype: str = \"floatX\"\n",
    "\n",
    "    # A pretty text and LaTeX representation for the RV\n",
    "    _print_name: Tuple[str, str] = (\"blah\", \"\\\\operatorname{blah}\")\n",
    "\n",
    "    # If you want to add a custom signature and default values for the\n",
    "    # parameters, do it like this. Otherwise this can be left out.\n",
    "    def __call__(self, loc=0.0, scale=1.0, **kwargs) -> TensorVariable:\n",
    "        return super().__call__(loc, scale, **kwargs)\n",
    "\n",
    "    # This is the Python code that produces samples.  Its signature will always\n",
    "    # start with a NumPy `RandomState` object, then the distribution\n",
    "    # parameters, and, finally, the size.\n",
    "    #\n",
    "    # This is effectively the PyMC >=4.0 replacement for `Distribution.random`.\n",
    "    @classmethod\n",
    "    def rng_fn(\n",
    "        cls,\n",
    "        rng: np.random.RandomState,\n",
    "        loc: np.ndarray,\n",
    "        scale: np.ndarray,\n",
    "        size: Tuple[int, ...],\n",
    "    ) -> np.ndarray:\n",
    "        return scipy.stats.blah.rvs(loc, scale, random_state=rng, size=size)\n",
    "\n",
    "# Create the actual `RandomVariable` `Op`...\n",
    "blah = BlahRV()\n"
   ]
  },
  {
   "cell_type": "code",
   "execution_count": null,
   "id": "b9994b5f",
   "metadata": {},
   "outputs": [],
   "source": []
  }
 ],
 "metadata": {
  "kernelspec": {
   "display_name": "Python 3 (ipykernel)",
   "language": "python",
   "name": "python3"
  },
  "language_info": {
   "codemirror_mode": {
    "name": "ipython",
    "version": 3
   },
   "file_extension": ".py",
   "mimetype": "text/x-python",
   "name": "python",
   "nbconvert_exporter": "python",
   "pygments_lexer": "ipython3",
   "version": "3.11.3"
  }
 },
 "nbformat": 4,
 "nbformat_minor": 5
}
