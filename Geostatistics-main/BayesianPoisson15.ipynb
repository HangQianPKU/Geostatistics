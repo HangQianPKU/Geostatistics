{
 "cells": [
  {
   "cell_type": "code",
   "execution_count": 1,
   "id": "f9369ef5",
   "metadata": {},
   "outputs": [
    {
     "ename": "UnicodeDecodeError",
     "evalue": "'gbk' codec can't decode byte 0xba in position 2367: illegal multibyte sequence",
     "output_type": "error",
     "traceback": [
      "\u001b[1;31m---------------------------------------------------------------------------\u001b[0m",
      "\u001b[1;31mUnicodeDecodeError\u001b[0m                        Traceback (most recent call last)",
      "Cell \u001b[1;32mIn[1], line 1\u001b[0m\n\u001b[1;32m----> 1\u001b[0m \u001b[38;5;28;01mimport\u001b[39;00m \u001b[38;5;21;01marviz\u001b[39;00m \u001b[38;5;28;01mas\u001b[39;00m \u001b[38;5;21;01maz\u001b[39;00m\n\u001b[0;32m      2\u001b[0m \u001b[38;5;28;01mimport\u001b[39;00m \u001b[38;5;21;01mpandas\u001b[39;00m \u001b[38;5;28;01mas\u001b[39;00m \u001b[38;5;21;01mpd\u001b[39;00m\n\u001b[0;32m      3\u001b[0m \u001b[38;5;28;01mimport\u001b[39;00m \u001b[38;5;21;01mmatplotlib\u001b[39;00m\u001b[38;5;21;01m.\u001b[39;00m\u001b[38;5;21;01mpyplot\u001b[39;00m \u001b[38;5;28;01mas\u001b[39;00m \u001b[38;5;21;01mplt\u001b[39;00m\n",
      "File \u001b[1;32mD:\\Softwares\\anaconda\\envs\\pymc_env2\\Lib\\site-packages\\arviz\\__init__.py:33\u001b[0m\n\u001b[0;32m     27\u001b[0m         \u001b[38;5;28msuper\u001b[39m()\u001b[38;5;241m.\u001b[39m_log(level, msg, \u001b[38;5;241m*\u001b[39margs, \u001b[38;5;241m*\u001b[39m\u001b[38;5;241m*\u001b[39mkwargs)\n\u001b[0;32m     30\u001b[0m _log \u001b[38;5;241m=\u001b[39m Logger(\u001b[38;5;124m\"\u001b[39m\u001b[38;5;124marviz\u001b[39m\u001b[38;5;124m\"\u001b[39m)\n\u001b[1;32m---> 33\u001b[0m \u001b[38;5;28;01mfrom\u001b[39;00m \u001b[38;5;21;01m.\u001b[39;00m\u001b[38;5;21;01mdata\u001b[39;00m \u001b[38;5;28;01mimport\u001b[39;00m \u001b[38;5;241m*\u001b[39m\n\u001b[0;32m     34\u001b[0m \u001b[38;5;28;01mfrom\u001b[39;00m \u001b[38;5;21;01m.\u001b[39;00m\u001b[38;5;21;01mplots\u001b[39;00m \u001b[38;5;28;01mimport\u001b[39;00m \u001b[38;5;241m*\u001b[39m\n\u001b[0;32m     35\u001b[0m \u001b[38;5;28;01mfrom\u001b[39;00m \u001b[38;5;21;01m.\u001b[39;00m\u001b[38;5;21;01mplots\u001b[39;00m\u001b[38;5;21;01m.\u001b[39;00m\u001b[38;5;21;01mbackends\u001b[39;00m \u001b[38;5;28;01mimport\u001b[39;00m \u001b[38;5;241m*\u001b[39m\n",
      "File \u001b[1;32mD:\\Softwares\\anaconda\\envs\\pymc_env2\\Lib\\site-packages\\arviz\\data\\__init__.py:2\u001b[0m\n\u001b[0;32m      1\u001b[0m \u001b[38;5;124;03m\"\"\"Code for loading and manipulating data structures.\"\"\"\u001b[39;00m\n\u001b[1;32m----> 2\u001b[0m \u001b[38;5;28;01mfrom\u001b[39;00m \u001b[38;5;21;01m.\u001b[39;00m\u001b[38;5;21;01mbase\u001b[39;00m \u001b[38;5;28;01mimport\u001b[39;00m CoordSpec, DimSpec, dict_to_dataset, numpy_to_data_array\n\u001b[0;32m      3\u001b[0m \u001b[38;5;28;01mfrom\u001b[39;00m \u001b[38;5;21;01m.\u001b[39;00m\u001b[38;5;21;01mconverters\u001b[39;00m \u001b[38;5;28;01mimport\u001b[39;00m convert_to_dataset, convert_to_inference_data\n\u001b[0;32m      4\u001b[0m \u001b[38;5;28;01mfrom\u001b[39;00m \u001b[38;5;21;01m.\u001b[39;00m\u001b[38;5;21;01mdatasets\u001b[39;00m \u001b[38;5;28;01mimport\u001b[39;00m clear_data_home, list_datasets, load_arviz_data\n",
      "File \u001b[1;32mD:\\Softwares\\anaconda\\envs\\pymc_env2\\Lib\\site-packages\\arviz\\data\\base.py:20\u001b[0m\n\u001b[0;32m     15\u001b[0m \u001b[38;5;28;01mexcept\u001b[39;00m \u001b[38;5;167;01mImportError\u001b[39;00m:\n\u001b[0;32m     16\u001b[0m     \u001b[38;5;66;03m# mypy struggles with conditional imports expressed as catching ImportError:\u001b[39;00m\n\u001b[0;32m     17\u001b[0m     \u001b[38;5;66;03m# https://github.com/python/mypy/issues/1153\u001b[39;00m\n\u001b[0;32m     18\u001b[0m     \u001b[38;5;28;01mimport\u001b[39;00m \u001b[38;5;21;01mjson\u001b[39;00m  \u001b[38;5;66;03m# type: ignore\u001b[39;00m\n\u001b[1;32m---> 20\u001b[0m \u001b[38;5;28;01mfrom\u001b[39;00m \u001b[38;5;21;01m.\u001b[39;00m\u001b[38;5;21;01m.\u001b[39;00m \u001b[38;5;28;01mimport\u001b[39;00m __version__, utils\n\u001b[0;32m     21\u001b[0m \u001b[38;5;28;01mfrom\u001b[39;00m \u001b[38;5;21;01m.\u001b[39;00m\u001b[38;5;21;01m.\u001b[39;00m\u001b[38;5;21;01mrcparams\u001b[39;00m \u001b[38;5;28;01mimport\u001b[39;00m rcParams\n\u001b[0;32m     23\u001b[0m CoordSpec \u001b[38;5;241m=\u001b[39m Dict[\u001b[38;5;28mstr\u001b[39m, List[Any]]\n",
      "File \u001b[1;32mD:\\Softwares\\anaconda\\envs\\pymc_env2\\Lib\\site-packages\\arviz\\utils.py:667\u001b[0m\n\u001b[0;32m    658\u001b[0m \u001b[38;5;250m    \u001b[39m\u001b[38;5;124;03m\"\"\"Lazily load the resource files into memory the first time they are needed.\u001b[39;00m\n\u001b[0;32m    659\u001b[0m \n\u001b[0;32m    660\u001b[0m \u001b[38;5;124;03m    Clone from xarray.core.formatted_html_template.\u001b[39;00m\n\u001b[0;32m    661\u001b[0m \u001b[38;5;124;03m    \"\"\"\u001b[39;00m\n\u001b[0;32m    662\u001b[0m     \u001b[38;5;28;01mreturn\u001b[39;00m [\n\u001b[0;32m    663\u001b[0m         importlib\u001b[38;5;241m.\u001b[39mresources\u001b[38;5;241m.\u001b[39mfiles(\u001b[38;5;124m\"\u001b[39m\u001b[38;5;124marviz\u001b[39m\u001b[38;5;124m\"\u001b[39m)\u001b[38;5;241m.\u001b[39mjoinpath(fname)\u001b[38;5;241m.\u001b[39mread_text() \u001b[38;5;28;01mfor\u001b[39;00m fname \u001b[38;5;129;01min\u001b[39;00m STATIC_FILES\n\u001b[0;32m    664\u001b[0m     ]\n\u001b[1;32m--> 667\u001b[0m \u001b[38;5;28;43;01mclass\u001b[39;49;00m\u001b[43m \u001b[49m\u001b[38;5;21;43;01mHtmlTemplate\u001b[39;49;00m\u001b[43m:\u001b[49m\n\u001b[0;32m    668\u001b[0m \u001b[38;5;250;43m    \u001b[39;49m\u001b[38;5;124;43;03m\"\"\"Contain html templates for InferenceData repr.\"\"\"\u001b[39;49;00m\n\u001b[0;32m    670\u001b[0m \u001b[43m    \u001b[49m\u001b[43mhtml_template\u001b[49m\u001b[43m \u001b[49m\u001b[38;5;241;43m=\u001b[39;49m\u001b[43m \u001b[49m\u001b[38;5;124;43m\"\"\"\u001b[39;49m\n\u001b[0;32m    671\u001b[0m \u001b[38;5;124;43m            <div>\u001b[39;49m\n\u001b[0;32m    672\u001b[0m \u001b[38;5;124;43m              <div class=\u001b[39;49m\u001b[38;5;124;43m'\u001b[39;49m\u001b[38;5;124;43mxr-header\u001b[39;49m\u001b[38;5;124;43m'\u001b[39;49m\u001b[38;5;124;43m>\u001b[39;49m\n\u001b[1;32m   (...)\u001b[0m\n\u001b[0;32m    678\u001b[0m \u001b[38;5;124;43m            </div>\u001b[39;49m\n\u001b[0;32m    679\u001b[0m \u001b[38;5;124;43m            \u001b[39;49m\u001b[38;5;124;43m\"\"\"\u001b[39;49m\n",
      "File \u001b[1;32mD:\\Softwares\\anaconda\\envs\\pymc_env2\\Lib\\site-packages\\arviz\\utils.py:692\u001b[0m, in \u001b[0;36mHtmlTemplate\u001b[1;34m()\u001b[0m\n\u001b[0;32m    670\u001b[0m html_template \u001b[38;5;241m=\u001b[39m \u001b[38;5;124m\"\"\"\u001b[39m\n\u001b[0;32m    671\u001b[0m \u001b[38;5;124m        <div>\u001b[39m\n\u001b[0;32m    672\u001b[0m \u001b[38;5;124m          <div class=\u001b[39m\u001b[38;5;124m'\u001b[39m\u001b[38;5;124mxr-header\u001b[39m\u001b[38;5;124m'\u001b[39m\u001b[38;5;124m>\u001b[39m\n\u001b[1;32m   (...)\u001b[0m\n\u001b[0;32m    678\u001b[0m \u001b[38;5;124m        </div>\u001b[39m\n\u001b[0;32m    679\u001b[0m \u001b[38;5;124m        \u001b[39m\u001b[38;5;124m\"\"\"\u001b[39m\n\u001b[0;32m    680\u001b[0m element_template \u001b[38;5;241m=\u001b[39m \u001b[38;5;124m\"\"\"\u001b[39m\n\u001b[0;32m    681\u001b[0m \u001b[38;5;124m        <li class = \u001b[39m\u001b[38;5;124m\"\u001b[39m\u001b[38;5;124mxr-section-item\u001b[39m\u001b[38;5;124m\"\u001b[39m\u001b[38;5;124m>\u001b[39m\n\u001b[0;32m    682\u001b[0m \u001b[38;5;124m              <input id=\u001b[39m\u001b[38;5;124m\"\u001b[39m\u001b[38;5;124midata_\u001b[39m\u001b[38;5;132;01m{group_id}\u001b[39;00m\u001b[38;5;124m\"\u001b[39m\u001b[38;5;124m class=\u001b[39m\u001b[38;5;124m\"\u001b[39m\u001b[38;5;124mxr-section-summary-in\u001b[39m\u001b[38;5;124m\"\u001b[39m\u001b[38;5;124m type=\u001b[39m\u001b[38;5;124m\"\u001b[39m\u001b[38;5;124mcheckbox\u001b[39m\u001b[38;5;124m\"\u001b[39m\u001b[38;5;124m>\u001b[39m\n\u001b[1;32m   (...)\u001b[0m\n\u001b[0;32m    690\u001b[0m \u001b[38;5;124m        </li>\u001b[39m\n\u001b[0;32m    691\u001b[0m \u001b[38;5;124m        \u001b[39m\u001b[38;5;124m\"\"\"\u001b[39m\n\u001b[1;32m--> 692\u001b[0m _, css_style \u001b[38;5;241m=\u001b[39m \u001b[43m_load_static_files\u001b[49m\u001b[43m(\u001b[49m\u001b[43m)\u001b[49m  \u001b[38;5;66;03m# pylint: disable=protected-access\u001b[39;00m\n\u001b[0;32m    693\u001b[0m specific_style \u001b[38;5;241m=\u001b[39m \u001b[38;5;124m\"\u001b[39m\u001b[38;5;124m.xr-wrap\u001b[39m\u001b[38;5;124m{\u001b[39m\u001b[38;5;124mwidth:700px!important;}\u001b[39m\u001b[38;5;124m\"\u001b[39m\n\u001b[0;32m    694\u001b[0m css_template \u001b[38;5;241m=\u001b[39m \u001b[38;5;124mf\u001b[39m\u001b[38;5;124m\"\u001b[39m\u001b[38;5;124m<style> \u001b[39m\u001b[38;5;132;01m{\u001b[39;00mcss_style\u001b[38;5;132;01m}\u001b[39;00m\u001b[38;5;132;01m{\u001b[39;00mspecific_style\u001b[38;5;132;01m}\u001b[39;00m\u001b[38;5;124m </style>\u001b[39m\u001b[38;5;124m\"\u001b[39m\n",
      "File \u001b[1;32mD:\\Softwares\\anaconda\\envs\\pymc_env2\\Lib\\site-packages\\arviz\\utils.py:662\u001b[0m, in \u001b[0;36m_load_static_files\u001b[1;34m()\u001b[0m\n\u001b[0;32m    656\u001b[0m \u001b[38;5;129m@lru_cache\u001b[39m(\u001b[38;5;28;01mNone\u001b[39;00m)\n\u001b[0;32m    657\u001b[0m \u001b[38;5;28;01mdef\u001b[39;00m \u001b[38;5;21m_load_static_files\u001b[39m():\n\u001b[0;32m    658\u001b[0m \u001b[38;5;250m    \u001b[39m\u001b[38;5;124;03m\"\"\"Lazily load the resource files into memory the first time they are needed.\u001b[39;00m\n\u001b[0;32m    659\u001b[0m \n\u001b[0;32m    660\u001b[0m \u001b[38;5;124;03m    Clone from xarray.core.formatted_html_template.\u001b[39;00m\n\u001b[0;32m    661\u001b[0m \u001b[38;5;124;03m    \"\"\"\u001b[39;00m\n\u001b[1;32m--> 662\u001b[0m     \u001b[38;5;28;01mreturn\u001b[39;00m \u001b[43m[\u001b[49m\n\u001b[0;32m    663\u001b[0m \u001b[43m        \u001b[49m\u001b[43mimportlib\u001b[49m\u001b[38;5;241;43m.\u001b[39;49m\u001b[43mresources\u001b[49m\u001b[38;5;241;43m.\u001b[39;49m\u001b[43mfiles\u001b[49m\u001b[43m(\u001b[49m\u001b[38;5;124;43m\"\u001b[39;49m\u001b[38;5;124;43marviz\u001b[39;49m\u001b[38;5;124;43m\"\u001b[39;49m\u001b[43m)\u001b[49m\u001b[38;5;241;43m.\u001b[39;49m\u001b[43mjoinpath\u001b[49m\u001b[43m(\u001b[49m\u001b[43mfname\u001b[49m\u001b[43m)\u001b[49m\u001b[38;5;241;43m.\u001b[39;49m\u001b[43mread_text\u001b[49m\u001b[43m(\u001b[49m\u001b[43m)\u001b[49m\u001b[43m \u001b[49m\u001b[38;5;28;43;01mfor\u001b[39;49;00m\u001b[43m \u001b[49m\u001b[43mfname\u001b[49m\u001b[43m \u001b[49m\u001b[38;5;129;43;01min\u001b[39;49;00m\u001b[43m \u001b[49m\u001b[43mSTATIC_FILES\u001b[49m\n\u001b[0;32m    664\u001b[0m \u001b[43m    \u001b[49m\u001b[43m]\u001b[49m\n",
      "File \u001b[1;32mD:\\Softwares\\anaconda\\envs\\pymc_env2\\Lib\\site-packages\\arviz\\utils.py:663\u001b[0m, in \u001b[0;36m<listcomp>\u001b[1;34m(.0)\u001b[0m\n\u001b[0;32m    656\u001b[0m \u001b[38;5;129m@lru_cache\u001b[39m(\u001b[38;5;28;01mNone\u001b[39;00m)\n\u001b[0;32m    657\u001b[0m \u001b[38;5;28;01mdef\u001b[39;00m \u001b[38;5;21m_load_static_files\u001b[39m():\n\u001b[0;32m    658\u001b[0m \u001b[38;5;250m    \u001b[39m\u001b[38;5;124;03m\"\"\"Lazily load the resource files into memory the first time they are needed.\u001b[39;00m\n\u001b[0;32m    659\u001b[0m \n\u001b[0;32m    660\u001b[0m \u001b[38;5;124;03m    Clone from xarray.core.formatted_html_template.\u001b[39;00m\n\u001b[0;32m    661\u001b[0m \u001b[38;5;124;03m    \"\"\"\u001b[39;00m\n\u001b[0;32m    662\u001b[0m     \u001b[38;5;28;01mreturn\u001b[39;00m [\n\u001b[1;32m--> 663\u001b[0m         \u001b[43mimportlib\u001b[49m\u001b[38;5;241;43m.\u001b[39;49m\u001b[43mresources\u001b[49m\u001b[38;5;241;43m.\u001b[39;49m\u001b[43mfiles\u001b[49m\u001b[43m(\u001b[49m\u001b[38;5;124;43m\"\u001b[39;49m\u001b[38;5;124;43marviz\u001b[39;49m\u001b[38;5;124;43m\"\u001b[39;49m\u001b[43m)\u001b[49m\u001b[38;5;241;43m.\u001b[39;49m\u001b[43mjoinpath\u001b[49m\u001b[43m(\u001b[49m\u001b[43mfname\u001b[49m\u001b[43m)\u001b[49m\u001b[38;5;241;43m.\u001b[39;49m\u001b[43mread_text\u001b[49m\u001b[43m(\u001b[49m\u001b[43m)\u001b[49m \u001b[38;5;28;01mfor\u001b[39;00m fname \u001b[38;5;129;01min\u001b[39;00m STATIC_FILES\n\u001b[0;32m    664\u001b[0m     ]\n",
      "File \u001b[1;32mD:\\Softwares\\anaconda\\envs\\pymc_env2\\Lib\\pathlib.py:1059\u001b[0m, in \u001b[0;36mPath.read_text\u001b[1;34m(self, encoding, errors)\u001b[0m\n\u001b[0;32m   1057\u001b[0m encoding \u001b[38;5;241m=\u001b[39m io\u001b[38;5;241m.\u001b[39mtext_encoding(encoding)\n\u001b[0;32m   1058\u001b[0m \u001b[38;5;28;01mwith\u001b[39;00m \u001b[38;5;28mself\u001b[39m\u001b[38;5;241m.\u001b[39mopen(mode\u001b[38;5;241m=\u001b[39m\u001b[38;5;124m'\u001b[39m\u001b[38;5;124mr\u001b[39m\u001b[38;5;124m'\u001b[39m, encoding\u001b[38;5;241m=\u001b[39mencoding, errors\u001b[38;5;241m=\u001b[39merrors) \u001b[38;5;28;01mas\u001b[39;00m f:\n\u001b[1;32m-> 1059\u001b[0m     \u001b[38;5;28;01mreturn\u001b[39;00m \u001b[43mf\u001b[49m\u001b[38;5;241;43m.\u001b[39;49m\u001b[43mread\u001b[49m\u001b[43m(\u001b[49m\u001b[43m)\u001b[49m\n",
      "\u001b[1;31mUnicodeDecodeError\u001b[0m: 'gbk' codec can't decode byte 0xba in position 2367: illegal multibyte sequence"
     ]
    }
   ],
   "source": [
    "import arviz as az\n",
    "import pandas as pd\n",
    "import matplotlib.pyplot as plt\n",
    "import numpy as np"
   ]
  },
  {
   "cell_type": "code",
   "execution_count": null,
   "id": "ac27cc5e",
   "metadata": {},
   "outputs": [],
   "source": [
    "import math\n",
    "import numpy as np\n",
    "import statsmodels.api as sm\n",
    "from statsmodels.base.model import GenericLikelihoodModel\n",
    "from scipy.stats import poisson\n",
    "from patsy import dmatrices\n",
    "import statsmodels.graphics.tsaplots as tsa\n",
    "from matplotlib import pyplot as plt\n",
    "from statsmodels.tools.numdiff import approx_hess1, approx_hess2, approx_hess3\n",
    "import pandas as pd\n",
    "\n",
    "df = pd.read_csv('D:/data/Zircons/Roberts_Spencer_2015.csv')\n",
    "ages = df[\"U-Pb (Ma)\"]\n",
    "data = plt.hist(ages, bins = 200)"
   ]
  },
  {
   "cell_type": "code",
   "execution_count": null,
   "id": "c95b1c42",
   "metadata": {},
   "outputs": [],
   "source": [
    "import pymc as pm\n",
    "\n",
    "print(f\"Running on PyMC v{pm.__version__}\")"
   ]
  },
  {
   "cell_type": "code",
   "execution_count": null,
   "id": "57e28d9c",
   "metadata": {},
   "outputs": [],
   "source": [
    "zircons_data = data[0]\n",
    "ages = data[1][1:]\n",
    "print(len(ages))\n",
    "print(max(ages))"
   ]
  },
  {
   "cell_type": "code",
   "execution_count": null,
   "id": "78de3a39",
   "metadata": {},
   "outputs": [],
   "source": [
    "plt.plot(ages, zircons_data, \"o\", markersize=3, alpha=1)\n",
    "plt.ylabel(\"Zircons count\")\n",
    "plt.xlabel(\"Ages\");"
   ]
  },
  {
   "cell_type": "code",
   "execution_count": null,
   "id": "3e06ad4a",
   "metadata": {},
   "outputs": [],
   "source": [
    "tr =pm.distributions.transforms\n",
    "\n",
    "Order = tr.Ordered()\n",
    "\n",
    "#Logodd = tr.LogOddsTransform()\n",
    "\n",
    "#chain_tran = tr.Chain([Logodd, Order])\n",
    "\n",
    "k = 5"
   ]
  },
  {
   "cell_type": "code",
   "execution_count": null,
   "id": "26619954",
   "metadata": {},
   "outputs": [],
   "source": [
    "with pm.Model() as model:\n",
    "    \n",
    "    k =8\n",
    "    \n",
    "    rates = pm.Exponential(\"rates\",1.0,shape = k + 1)\n",
    "    \n",
    "    switchpoints = pm.Uniform(\"switchpoints\", lower = 0, upper = max(ages) , shape = k, transform = Order,  initval=np.linspace(100,max(ages)-100,k))\n",
    "    #x = pm.Uniform(\"x\", 0.0, 1.0, shape = n, transform = chain_tran)\n",
    "    rate = rates[0]\n",
    "    for i in range(k):\n",
    "        rate = pm.math.switch(switchpoints[i] >= ages, rate, rates[i+1])\n",
    "        \n",
    "    disasters = pm.Poisson(\"counts\", rate, observed=zircons_data)\n",
    "    \n",
    "    tr100000 = pm.sample(draws =80000,tune = 20000, cores = 1)"
   ]
  },
  {
   "cell_type": "code",
   "execution_count": null,
   "id": "f16a155f",
   "metadata": {},
   "outputs": [],
   "source": [
    "with model:\n",
    "    az.plot_trace(tr100000)\n",
    "    \n",
    "pm.summary(tr100000)"
   ]
  },
  {
   "cell_type": "code",
   "execution_count": null,
   "id": "37c0aa77",
   "metadata": {},
   "outputs": [],
   "source": [
    "with pm.Model() as model:\n",
    "    \n",
    "    k =8\n",
    "    \n",
    "    rates = pm.Exponential(\"rates\",1.0,shape = k + 1)\n",
    "    \n",
    "    switchpoints = pm.Uniform(\"switchpoints\", lower = 0, upper = max(ages) , shape = k, transform = Order,  initval=np.linspace(100,max(ages)-100,k))\n",
    "    #x = pm.Uniform(\"x\", 0.0, 1.0, shape = n, transform = chain_tran)\n",
    "    rate = rates[0]\n",
    "    for i in range(k):\n",
    "        rate = pm.math.switch(switchpoints[i] >= ages, rate, rates[i+1])\n",
    "        \n",
    "    disasters = pm.Poisson(\"counts\", rate, observed=zircons_data)\n",
    "    \n",
    "    tr150000 = pm.sample(draws =1000,tune = 1000, cores = 4)"
   ]
  },
  {
   "cell_type": "code",
   "execution_count": null,
   "id": "dc0ee6b3",
   "metadata": {},
   "outputs": [],
   "source": [
    "with model:\n",
    "    az.plot_trace(tr150000)\n",
    "    \n",
    "pm.summary(tr150000)"
   ]
  }
 ],
 "metadata": {
  "kernelspec": {
   "display_name": "Python 3 (ipykernel)",
   "language": "python",
   "name": "python3"
  },
  "language_info": {
   "codemirror_mode": {
    "name": "ipython",
    "version": 3
   },
   "file_extension": ".py",
   "mimetype": "text/x-python",
   "name": "python",
   "nbconvert_exporter": "python",
   "pygments_lexer": "ipython3",
   "version": "3.11.4"
  }
 },
 "nbformat": 4,
 "nbformat_minor": 5
}
