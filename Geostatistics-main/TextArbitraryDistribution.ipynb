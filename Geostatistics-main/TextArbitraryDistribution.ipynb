{
 "cells": [
  {
   "cell_type": "code",
   "execution_count": 1,
   "id": "f2524ee1",
   "metadata": {},
   "outputs": [],
   "source": [
    "import arviz as az\n",
    "import pandas as pd\n",
    "import matplotlib.pyplot as plt\n",
    "import numpy as np\n",
    "import math\n",
    "import numpy as np\n",
    "import statsmodels.api as sm\n",
    "from statsmodels.base.model import GenericLikelihoodModel\n",
    "from scipy.stats import poisson\n",
    "from patsy import dmatrices\n",
    "import statsmodels.graphics.tsaplots as tsa\n",
    "from matplotlib import pyplot as plt\n",
    "from statsmodels.tools.numdiff import approx_hess1, approx_hess2, approx_hess3\n",
    "import pandas as pd"
   ]
  },
  {
   "cell_type": "code",
   "execution_count": 2,
   "id": "b0cde977",
   "metadata": {},
   "outputs": [],
   "source": [
    "import pytensor\n",
    "import pytensor.tensor as pt\n",
    "import pymc as pm\n",
    "import matplotlib.pyplot as plt\n",
    "import numpy as np\n",
    "import scipy.stats"
   ]
  },
  {
   "cell_type": "code",
   "execution_count": 3,
   "id": "1846bb3e",
   "metadata": {},
   "outputs": [],
   "source": [
    "import pytensor.tensor as at"
   ]
  },
  {
   "cell_type": "code",
   "execution_count": 4,
   "id": "7c35b032",
   "metadata": {},
   "outputs": [
    {
     "name": "stdout",
     "output_type": "stream",
     "text": [
      "Running on PyMC v5.1.2\n"
     ]
    }
   ],
   "source": [
    "import pymc as pm\n",
    "\n",
    "print(f\"Running on PyMC v{pm.__version__}\")"
   ]
  },
  {
   "cell_type": "code",
   "execution_count": 5,
   "id": "46373050",
   "metadata": {},
   "outputs": [],
   "source": [
    "class BetaRV(at.random.op.RandomVariable):\n",
    "    name = \"beta\"\n",
    "    ndim_supp = 0\n",
    "    ndims_params = []\n",
    "    dtype = \"floatX\"\n",
    "\n",
    "    @classmethod\n",
    "    def rng_fn(cls, rng, size):\n",
    "        raise NotImplementedError(\"Cannot sample from beta variable\")\n",
    "\n",
    "\n",
    "beta = BetaRV()"
   ]
  },
  {
   "cell_type": "code",
   "execution_count": 6,
   "id": "20608023",
   "metadata": {},
   "outputs": [],
   "source": [
    "class Beta(pm.Continuous):\n",
    "    rv_op = beta\n",
    "\n",
    "    @classmethod\n",
    "    def dist(cls, mu=0, **kwargs):\n",
    "        mu = at.as_tensor_variable(mu)\n",
    "        return super().dist([mu], **kwargs)\n",
    "\n",
    "    def logp(self, value):\n",
    "        mu = self.mu\n",
    "        return beta_logp(value - mu)\n",
    "\n",
    "\n",
    "def beta_logp(value):\n",
    "    return -1.5 * at.log(1 + (value) ** 2)\n",
    "\n",
    "\n",
    "with pm.Model() as model:\n",
    "    beta = Beta(\"beta\", mu=0)"
   ]
  },
  {
   "cell_type": "code",
   "execution_count": null,
   "id": "88c1b3d6",
   "metadata": {},
   "outputs": [],
   "source": []
  },
  {
   "cell_type": "code",
   "execution_count": 7,
   "id": "84ef6cda",
   "metadata": {},
   "outputs": [
    {
     "name": "stdout",
     "output_type": "stream",
     "text": [
      "beta_rv{0, (), floatX, False}.1 [id A] 'beta'\n",
      " |RandomGeneratorSharedVariable(<Generator(PCG64) at 0x2CF13869380>) [id B]\n",
      " |TensorConstant{[]} [id C]\n",
      " |TensorConstant{11} [id D]\n",
      " |TensorConstant{0} [id E]\n"
     ]
    },
    {
     "data": {
      "text/plain": [
       "<ipykernel.iostream.OutStream at 0x2cf0aebafe0>"
      ]
     },
     "execution_count": 7,
     "metadata": {},
     "output_type": "execute_result"
    }
   ],
   "source": [
    "pytensor.dprint(beta)"
   ]
  },
  {
   "cell_type": "code",
   "execution_count": 9,
   "id": "64c52718",
   "metadata": {},
   "outputs": [
    {
     "ename": "NameError",
     "evalue": "name 'deta' is not defined",
     "output_type": "error",
     "traceback": [
      "\u001b[1;31m---------------------------------------------------------------------------\u001b[0m",
      "\u001b[1;31mNameError\u001b[0m                                 Traceback (most recent call last)",
      "Cell \u001b[1;32mIn[9], line 1\u001b[0m\n\u001b[1;32m----> 1\u001b[0m pm\u001b[38;5;241m.\u001b[39mdraw(\u001b[43mdeta\u001b[49m)\n",
      "\u001b[1;31mNameError\u001b[0m: name 'deta' is not defined"
     ]
    }
   ],
   "source": [
    "pm.draw(deta)"
   ]
  },
  {
   "cell_type": "code",
   "execution_count": 8,
   "id": "fa21178d",
   "metadata": {},
   "outputs": [
    {
     "ename": "TypeError",
     "evalue": "BetaRV.rng_fn() takes 3 positional arguments but 4 were given\nApply node that caused the error: beta_rv{0, (), floatX, True}(RandomGeneratorSharedVariable(<Generator(PCG64) at 0x2CF1399C3C0>), TensorConstant{[]}, TensorConstant{11}, TensorConstant{0})\nToposort index: 0\nInputs types: [RandomGeneratorType, TensorType(int64, (0,)), TensorType(int64, ()), TensorType(int8, ())]\nInputs shapes: ['No shapes', (0,), (), ()]\nInputs strides: ['No strides', (0,), (), ()]\nInputs values: [Generator(PCG64) at 0x2CF1399C3C0, array([], dtype=int64), array(11, dtype=int64), array(0, dtype=int8)]\nOutputs clients: [['output'], ['output']]\n\nHINT: Re-running with most PyTensor optimizations disabled could provide a back-trace showing when this node was created. This can be done by setting the PyTensor flag 'optimizer=fast_compile'. If that does not work, PyTensor optimizations can be disabled with 'optimizer=None'.\nHINT: Use the PyTensor flag `exception_verbosity=high` for a debug print-out and storage map footprint of this Apply node.",
     "output_type": "error",
     "traceback": [
      "\u001b[1;31m---------------------------------------------------------------------------\u001b[0m",
      "\u001b[1;31mTypeError\u001b[0m                                 Traceback (most recent call last)",
      "File \u001b[1;32mE:\\anaconda\\envs\\pymc_env\\Lib\\site-packages\\pytensor\\compile\\function\\types.py:970\u001b[0m, in \u001b[0;36mFunction.__call__\u001b[1;34m(self, *args, **kwargs)\u001b[0m\n\u001b[0;32m    968\u001b[0m \u001b[38;5;28;01mtry\u001b[39;00m:\n\u001b[0;32m    969\u001b[0m     outputs \u001b[38;5;241m=\u001b[39m (\n\u001b[1;32m--> 970\u001b[0m         \u001b[38;5;28;43mself\u001b[39;49m\u001b[38;5;241;43m.\u001b[39;49m\u001b[43mvm\u001b[49m\u001b[43m(\u001b[49m\u001b[43m)\u001b[49m\n\u001b[0;32m    971\u001b[0m         \u001b[38;5;28;01mif\u001b[39;00m output_subset \u001b[38;5;129;01mis\u001b[39;00m \u001b[38;5;28;01mNone\u001b[39;00m\n\u001b[0;32m    972\u001b[0m         \u001b[38;5;28;01melse\u001b[39;00m \u001b[38;5;28mself\u001b[39m\u001b[38;5;241m.\u001b[39mvm(output_subset\u001b[38;5;241m=\u001b[39moutput_subset)\n\u001b[0;32m    973\u001b[0m     )\n\u001b[0;32m    974\u001b[0m \u001b[38;5;28;01mexcept\u001b[39;00m \u001b[38;5;167;01mException\u001b[39;00m:\n",
      "File \u001b[1;32mE:\\anaconda\\envs\\pymc_env\\Lib\\site-packages\\pytensor\\graph\\op.py:543\u001b[0m, in \u001b[0;36mOp.make_py_thunk.<locals>.rval\u001b[1;34m(p, i, o, n, params)\u001b[0m\n\u001b[0;32m    539\u001b[0m \u001b[38;5;129m@is_thunk_type\u001b[39m\n\u001b[0;32m    540\u001b[0m \u001b[38;5;28;01mdef\u001b[39;00m \u001b[38;5;21mrval\u001b[39m(\n\u001b[0;32m    541\u001b[0m     p\u001b[38;5;241m=\u001b[39mp, i\u001b[38;5;241m=\u001b[39mnode_input_storage, o\u001b[38;5;241m=\u001b[39mnode_output_storage, n\u001b[38;5;241m=\u001b[39mnode, params\u001b[38;5;241m=\u001b[39m\u001b[38;5;28;01mNone\u001b[39;00m\n\u001b[0;32m    542\u001b[0m ):\n\u001b[1;32m--> 543\u001b[0m     r \u001b[38;5;241m=\u001b[39m \u001b[43mp\u001b[49m\u001b[43m(\u001b[49m\u001b[43mn\u001b[49m\u001b[43m,\u001b[49m\u001b[43m \u001b[49m\u001b[43m[\u001b[49m\u001b[43mx\u001b[49m\u001b[43m[\u001b[49m\u001b[38;5;241;43m0\u001b[39;49m\u001b[43m]\u001b[49m\u001b[43m \u001b[49m\u001b[38;5;28;43;01mfor\u001b[39;49;00m\u001b[43m \u001b[49m\u001b[43mx\u001b[49m\u001b[43m \u001b[49m\u001b[38;5;129;43;01min\u001b[39;49;00m\u001b[43m \u001b[49m\u001b[43mi\u001b[49m\u001b[43m]\u001b[49m\u001b[43m,\u001b[49m\u001b[43m \u001b[49m\u001b[43mo\u001b[49m\u001b[43m)\u001b[49m\n\u001b[0;32m    544\u001b[0m     \u001b[38;5;28;01mfor\u001b[39;00m o \u001b[38;5;129;01min\u001b[39;00m node\u001b[38;5;241m.\u001b[39moutputs:\n",
      "File \u001b[1;32mE:\\anaconda\\envs\\pymc_env\\Lib\\site-packages\\pytensor\\tensor\\random\\op.py:378\u001b[0m, in \u001b[0;36mRandomVariable.perform\u001b[1;34m(self, node, inputs, outputs)\u001b[0m\n\u001b[0;32m    376\u001b[0m rng_var_out[\u001b[38;5;241m0\u001b[39m] \u001b[38;5;241m=\u001b[39m rng\n\u001b[1;32m--> 378\u001b[0m smpl_val \u001b[38;5;241m=\u001b[39m \u001b[38;5;28;43mself\u001b[39;49m\u001b[38;5;241;43m.\u001b[39;49m\u001b[43mrng_fn\u001b[49m\u001b[43m(\u001b[49m\u001b[43mrng\u001b[49m\u001b[43m,\u001b[49m\u001b[43m \u001b[49m\u001b[38;5;241;43m*\u001b[39;49m\u001b[43m(\u001b[49m\u001b[43margs\u001b[49m\u001b[43m \u001b[49m\u001b[38;5;241;43m+\u001b[39;49m\u001b[43m \u001b[49m\u001b[43m[\u001b[49m\u001b[43msize\u001b[49m\u001b[43m]\u001b[49m\u001b[43m)\u001b[49m\u001b[43m)\u001b[49m\n\u001b[0;32m    380\u001b[0m \u001b[38;5;28;01mif\u001b[39;00m (\n\u001b[0;32m    381\u001b[0m     \u001b[38;5;129;01mnot\u001b[39;00m \u001b[38;5;28misinstance\u001b[39m(smpl_val, np\u001b[38;5;241m.\u001b[39mndarray)\n\u001b[0;32m    382\u001b[0m     \u001b[38;5;129;01mor\u001b[39;00m \u001b[38;5;28mstr\u001b[39m(smpl_val\u001b[38;5;241m.\u001b[39mdtype) \u001b[38;5;241m!=\u001b[39m out_var\u001b[38;5;241m.\u001b[39mtype\u001b[38;5;241m.\u001b[39mdtype\n\u001b[0;32m    383\u001b[0m ):\n",
      "\u001b[1;31mTypeError\u001b[0m: BetaRV.rng_fn() takes 3 positional arguments but 4 were given",
      "\nDuring handling of the above exception, another exception occurred:\n",
      "\u001b[1;31mTypeError\u001b[0m                                 Traceback (most recent call last)",
      "Cell \u001b[1;32mIn[8], line 2\u001b[0m\n\u001b[0;32m      1\u001b[0m fig, ax \u001b[38;5;241m=\u001b[39m plt\u001b[38;5;241m.\u001b[39msubplots(figsize\u001b[38;5;241m=\u001b[39m(\u001b[38;5;241m8\u001b[39m, \u001b[38;5;241m6\u001b[39m))\n\u001b[1;32m----> 2\u001b[0m ax\u001b[38;5;241m.\u001b[39mhist(\u001b[43mpm\u001b[49m\u001b[38;5;241;43m.\u001b[39;49m\u001b[43mdraw\u001b[49m\u001b[43m(\u001b[49m\u001b[43mbeta\u001b[49m\u001b[43m,\u001b[49m\u001b[43m \u001b[49m\u001b[43mdraws\u001b[49m\u001b[38;5;241;43m=\u001b[39;49m\u001b[38;5;241;43m1_000\u001b[39;49m\u001b[43m)\u001b[49m, color\u001b[38;5;241m=\u001b[39m\u001b[38;5;124m\"\u001b[39m\u001b[38;5;124mC1\u001b[39m\u001b[38;5;124m\"\u001b[39m, bins\u001b[38;5;241m=\u001b[39m\u001b[38;5;241m15\u001b[39m)\n\u001b[0;32m      3\u001b[0m ax\u001b[38;5;241m.\u001b[39mset(title\u001b[38;5;241m=\u001b[39m\u001b[38;5;124m\"\u001b[39m\u001b[38;5;124mSamples from a normal distribution using pymc\u001b[39m\u001b[38;5;124m\"\u001b[39m, ylabel\u001b[38;5;241m=\u001b[39m\u001b[38;5;124m\"\u001b[39m\u001b[38;5;124mcount\u001b[39m\u001b[38;5;124m\"\u001b[39m);\n",
      "File \u001b[1;32mE:\\anaconda\\envs\\pymc_env\\Lib\\site-packages\\pymc\\sampling\\forward.py:326\u001b[0m, in \u001b[0;36mdraw\u001b[1;34m(vars, draws, random_seed, **kwargs)\u001b[0m\n\u001b[0;32m    324\u001b[0m \u001b[38;5;28;01mif\u001b[39;00m \u001b[38;5;129;01mnot\u001b[39;00m \u001b[38;5;28misinstance\u001b[39m(\u001b[38;5;28mvars\u001b[39m, (\u001b[38;5;28mlist\u001b[39m, \u001b[38;5;28mtuple\u001b[39m)):\n\u001b[0;32m    325\u001b[0m     cast(Callable[[], np\u001b[38;5;241m.\u001b[39mndarray], draw_fn)\n\u001b[1;32m--> 326\u001b[0m     \u001b[38;5;28;01mreturn\u001b[39;00m np\u001b[38;5;241m.\u001b[39mstack(\u001b[43m[\u001b[49m\u001b[43mdraw_fn\u001b[49m\u001b[43m(\u001b[49m\u001b[43m)\u001b[49m\u001b[43m \u001b[49m\u001b[38;5;28;43;01mfor\u001b[39;49;00m\u001b[43m \u001b[49m\u001b[43m_\u001b[49m\u001b[43m \u001b[49m\u001b[38;5;129;43;01min\u001b[39;49;00m\u001b[43m \u001b[49m\u001b[38;5;28;43mrange\u001b[39;49m\u001b[43m(\u001b[49m\u001b[43mdraws\u001b[49m\u001b[43m)\u001b[49m\u001b[43m]\u001b[49m)\n\u001b[0;32m    328\u001b[0m \u001b[38;5;66;03m# Multiple variable output\u001b[39;00m\n\u001b[0;32m    329\u001b[0m cast(Callable[[], List[np\u001b[38;5;241m.\u001b[39mndarray]], draw_fn)\n",
      "File \u001b[1;32mE:\\anaconda\\envs\\pymc_env\\Lib\\site-packages\\pymc\\sampling\\forward.py:326\u001b[0m, in \u001b[0;36m<listcomp>\u001b[1;34m(.0)\u001b[0m\n\u001b[0;32m    324\u001b[0m \u001b[38;5;28;01mif\u001b[39;00m \u001b[38;5;129;01mnot\u001b[39;00m \u001b[38;5;28misinstance\u001b[39m(\u001b[38;5;28mvars\u001b[39m, (\u001b[38;5;28mlist\u001b[39m, \u001b[38;5;28mtuple\u001b[39m)):\n\u001b[0;32m    325\u001b[0m     cast(Callable[[], np\u001b[38;5;241m.\u001b[39mndarray], draw_fn)\n\u001b[1;32m--> 326\u001b[0m     \u001b[38;5;28;01mreturn\u001b[39;00m np\u001b[38;5;241m.\u001b[39mstack([\u001b[43mdraw_fn\u001b[49m\u001b[43m(\u001b[49m\u001b[43m)\u001b[49m \u001b[38;5;28;01mfor\u001b[39;00m _ \u001b[38;5;129;01min\u001b[39;00m \u001b[38;5;28mrange\u001b[39m(draws)])\n\u001b[0;32m    328\u001b[0m \u001b[38;5;66;03m# Multiple variable output\u001b[39;00m\n\u001b[0;32m    329\u001b[0m cast(Callable[[], List[np\u001b[38;5;241m.\u001b[39mndarray]], draw_fn)\n",
      "File \u001b[1;32mE:\\anaconda\\envs\\pymc_env\\Lib\\site-packages\\pytensor\\compile\\function\\types.py:983\u001b[0m, in \u001b[0;36mFunction.__call__\u001b[1;34m(self, *args, **kwargs)\u001b[0m\n\u001b[0;32m    981\u001b[0m     \u001b[38;5;28;01mif\u001b[39;00m \u001b[38;5;28mhasattr\u001b[39m(\u001b[38;5;28mself\u001b[39m\u001b[38;5;241m.\u001b[39mvm, \u001b[38;5;124m\"\u001b[39m\u001b[38;5;124mthunks\u001b[39m\u001b[38;5;124m\"\u001b[39m):\n\u001b[0;32m    982\u001b[0m         thunk \u001b[38;5;241m=\u001b[39m \u001b[38;5;28mself\u001b[39m\u001b[38;5;241m.\u001b[39mvm\u001b[38;5;241m.\u001b[39mthunks[\u001b[38;5;28mself\u001b[39m\u001b[38;5;241m.\u001b[39mvm\u001b[38;5;241m.\u001b[39mposition_of_error]\n\u001b[1;32m--> 983\u001b[0m     \u001b[43mraise_with_op\u001b[49m\u001b[43m(\u001b[49m\n\u001b[0;32m    984\u001b[0m \u001b[43m        \u001b[49m\u001b[38;5;28;43mself\u001b[39;49m\u001b[38;5;241;43m.\u001b[39;49m\u001b[43mmaker\u001b[49m\u001b[38;5;241;43m.\u001b[39;49m\u001b[43mfgraph\u001b[49m\u001b[43m,\u001b[49m\n\u001b[0;32m    985\u001b[0m \u001b[43m        \u001b[49m\u001b[43mnode\u001b[49m\u001b[38;5;241;43m=\u001b[39;49m\u001b[38;5;28;43mself\u001b[39;49m\u001b[38;5;241;43m.\u001b[39;49m\u001b[43mvm\u001b[49m\u001b[38;5;241;43m.\u001b[39;49m\u001b[43mnodes\u001b[49m\u001b[43m[\u001b[49m\u001b[38;5;28;43mself\u001b[39;49m\u001b[38;5;241;43m.\u001b[39;49m\u001b[43mvm\u001b[49m\u001b[38;5;241;43m.\u001b[39;49m\u001b[43mposition_of_error\u001b[49m\u001b[43m]\u001b[49m\u001b[43m,\u001b[49m\n\u001b[0;32m    986\u001b[0m \u001b[43m        \u001b[49m\u001b[43mthunk\u001b[49m\u001b[38;5;241;43m=\u001b[39;49m\u001b[43mthunk\u001b[49m\u001b[43m,\u001b[49m\n\u001b[0;32m    987\u001b[0m \u001b[43m        \u001b[49m\u001b[43mstorage_map\u001b[49m\u001b[38;5;241;43m=\u001b[39;49m\u001b[38;5;28;43mgetattr\u001b[39;49m\u001b[43m(\u001b[49m\u001b[38;5;28;43mself\u001b[39;49m\u001b[38;5;241;43m.\u001b[39;49m\u001b[43mvm\u001b[49m\u001b[43m,\u001b[49m\u001b[43m \u001b[49m\u001b[38;5;124;43m\"\u001b[39;49m\u001b[38;5;124;43mstorage_map\u001b[39;49m\u001b[38;5;124;43m\"\u001b[39;49m\u001b[43m,\u001b[49m\u001b[43m \u001b[49m\u001b[38;5;28;43;01mNone\u001b[39;49;00m\u001b[43m)\u001b[49m\u001b[43m,\u001b[49m\n\u001b[0;32m    988\u001b[0m \u001b[43m    \u001b[49m\u001b[43m)\u001b[49m\n\u001b[0;32m    989\u001b[0m \u001b[38;5;28;01melse\u001b[39;00m:\n\u001b[0;32m    990\u001b[0m     \u001b[38;5;66;03m# old-style linkers raise their own exceptions\u001b[39;00m\n\u001b[0;32m    991\u001b[0m     \u001b[38;5;28;01mraise\u001b[39;00m\n",
      "File \u001b[1;32mE:\\anaconda\\envs\\pymc_env\\Lib\\site-packages\\pytensor\\link\\utils.py:535\u001b[0m, in \u001b[0;36mraise_with_op\u001b[1;34m(fgraph, node, thunk, exc_info, storage_map)\u001b[0m\n\u001b[0;32m    530\u001b[0m     warnings\u001b[38;5;241m.\u001b[39mwarn(\n\u001b[0;32m    531\u001b[0m         \u001b[38;5;124mf\u001b[39m\u001b[38;5;124m\"\u001b[39m\u001b[38;5;132;01m{\u001b[39;00mexc_type\u001b[38;5;132;01m}\u001b[39;00m\u001b[38;5;124m error does not allow us to add an extra error message\u001b[39m\u001b[38;5;124m\"\u001b[39m\n\u001b[0;32m    532\u001b[0m     )\n\u001b[0;32m    533\u001b[0m     \u001b[38;5;66;03m# Some exception need extra parameter in inputs. So forget the\u001b[39;00m\n\u001b[0;32m    534\u001b[0m     \u001b[38;5;66;03m# extra long error message in that case.\u001b[39;00m\n\u001b[1;32m--> 535\u001b[0m \u001b[38;5;28;01mraise\u001b[39;00m exc_value\u001b[38;5;241m.\u001b[39mwith_traceback(exc_trace)\n",
      "File \u001b[1;32mE:\\anaconda\\envs\\pymc_env\\Lib\\site-packages\\pytensor\\compile\\function\\types.py:970\u001b[0m, in \u001b[0;36mFunction.__call__\u001b[1;34m(self, *args, **kwargs)\u001b[0m\n\u001b[0;32m    967\u001b[0m t0_fn \u001b[38;5;241m=\u001b[39m time\u001b[38;5;241m.\u001b[39mperf_counter()\n\u001b[0;32m    968\u001b[0m \u001b[38;5;28;01mtry\u001b[39;00m:\n\u001b[0;32m    969\u001b[0m     outputs \u001b[38;5;241m=\u001b[39m (\n\u001b[1;32m--> 970\u001b[0m         \u001b[38;5;28;43mself\u001b[39;49m\u001b[38;5;241;43m.\u001b[39;49m\u001b[43mvm\u001b[49m\u001b[43m(\u001b[49m\u001b[43m)\u001b[49m\n\u001b[0;32m    971\u001b[0m         \u001b[38;5;28;01mif\u001b[39;00m output_subset \u001b[38;5;129;01mis\u001b[39;00m \u001b[38;5;28;01mNone\u001b[39;00m\n\u001b[0;32m    972\u001b[0m         \u001b[38;5;28;01melse\u001b[39;00m \u001b[38;5;28mself\u001b[39m\u001b[38;5;241m.\u001b[39mvm(output_subset\u001b[38;5;241m=\u001b[39moutput_subset)\n\u001b[0;32m    973\u001b[0m     )\n\u001b[0;32m    974\u001b[0m \u001b[38;5;28;01mexcept\u001b[39;00m \u001b[38;5;167;01mException\u001b[39;00m:\n\u001b[0;32m    975\u001b[0m     restore_defaults()\n",
      "File \u001b[1;32mE:\\anaconda\\envs\\pymc_env\\Lib\\site-packages\\pytensor\\graph\\op.py:543\u001b[0m, in \u001b[0;36mOp.make_py_thunk.<locals>.rval\u001b[1;34m(p, i, o, n, params)\u001b[0m\n\u001b[0;32m    539\u001b[0m \u001b[38;5;129m@is_thunk_type\u001b[39m\n\u001b[0;32m    540\u001b[0m \u001b[38;5;28;01mdef\u001b[39;00m \u001b[38;5;21mrval\u001b[39m(\n\u001b[0;32m    541\u001b[0m     p\u001b[38;5;241m=\u001b[39mp, i\u001b[38;5;241m=\u001b[39mnode_input_storage, o\u001b[38;5;241m=\u001b[39mnode_output_storage, n\u001b[38;5;241m=\u001b[39mnode, params\u001b[38;5;241m=\u001b[39m\u001b[38;5;28;01mNone\u001b[39;00m\n\u001b[0;32m    542\u001b[0m ):\n\u001b[1;32m--> 543\u001b[0m     r \u001b[38;5;241m=\u001b[39m \u001b[43mp\u001b[49m\u001b[43m(\u001b[49m\u001b[43mn\u001b[49m\u001b[43m,\u001b[49m\u001b[43m \u001b[49m\u001b[43m[\u001b[49m\u001b[43mx\u001b[49m\u001b[43m[\u001b[49m\u001b[38;5;241;43m0\u001b[39;49m\u001b[43m]\u001b[49m\u001b[43m \u001b[49m\u001b[38;5;28;43;01mfor\u001b[39;49;00m\u001b[43m \u001b[49m\u001b[43mx\u001b[49m\u001b[43m \u001b[49m\u001b[38;5;129;43;01min\u001b[39;49;00m\u001b[43m \u001b[49m\u001b[43mi\u001b[49m\u001b[43m]\u001b[49m\u001b[43m,\u001b[49m\u001b[43m \u001b[49m\u001b[43mo\u001b[49m\u001b[43m)\u001b[49m\n\u001b[0;32m    544\u001b[0m     \u001b[38;5;28;01mfor\u001b[39;00m o \u001b[38;5;129;01min\u001b[39;00m node\u001b[38;5;241m.\u001b[39moutputs:\n\u001b[0;32m    545\u001b[0m         compute_map[o][\u001b[38;5;241m0\u001b[39m] \u001b[38;5;241m=\u001b[39m \u001b[38;5;28;01mTrue\u001b[39;00m\n",
      "File \u001b[1;32mE:\\anaconda\\envs\\pymc_env\\Lib\\site-packages\\pytensor\\tensor\\random\\op.py:378\u001b[0m, in \u001b[0;36mRandomVariable.perform\u001b[1;34m(self, node, inputs, outputs)\u001b[0m\n\u001b[0;32m    374\u001b[0m     rng \u001b[38;5;241m=\u001b[39m copy(rng)\n\u001b[0;32m    376\u001b[0m rng_var_out[\u001b[38;5;241m0\u001b[39m] \u001b[38;5;241m=\u001b[39m rng\n\u001b[1;32m--> 378\u001b[0m smpl_val \u001b[38;5;241m=\u001b[39m \u001b[38;5;28;43mself\u001b[39;49m\u001b[38;5;241;43m.\u001b[39;49m\u001b[43mrng_fn\u001b[49m\u001b[43m(\u001b[49m\u001b[43mrng\u001b[49m\u001b[43m,\u001b[49m\u001b[43m \u001b[49m\u001b[38;5;241;43m*\u001b[39;49m\u001b[43m(\u001b[49m\u001b[43margs\u001b[49m\u001b[43m \u001b[49m\u001b[38;5;241;43m+\u001b[39;49m\u001b[43m \u001b[49m\u001b[43m[\u001b[49m\u001b[43msize\u001b[49m\u001b[43m]\u001b[49m\u001b[43m)\u001b[49m\u001b[43m)\u001b[49m\n\u001b[0;32m    380\u001b[0m \u001b[38;5;28;01mif\u001b[39;00m (\n\u001b[0;32m    381\u001b[0m     \u001b[38;5;129;01mnot\u001b[39;00m \u001b[38;5;28misinstance\u001b[39m(smpl_val, np\u001b[38;5;241m.\u001b[39mndarray)\n\u001b[0;32m    382\u001b[0m     \u001b[38;5;129;01mor\u001b[39;00m \u001b[38;5;28mstr\u001b[39m(smpl_val\u001b[38;5;241m.\u001b[39mdtype) \u001b[38;5;241m!=\u001b[39m out_var\u001b[38;5;241m.\u001b[39mtype\u001b[38;5;241m.\u001b[39mdtype\n\u001b[0;32m    383\u001b[0m ):\n\u001b[0;32m    384\u001b[0m     smpl_val \u001b[38;5;241m=\u001b[39m _asarray(smpl_val, dtype\u001b[38;5;241m=\u001b[39mout_var\u001b[38;5;241m.\u001b[39mtype\u001b[38;5;241m.\u001b[39mdtype)\n",
      "\u001b[1;31mTypeError\u001b[0m: BetaRV.rng_fn() takes 3 positional arguments but 4 were given\nApply node that caused the error: beta_rv{0, (), floatX, True}(RandomGeneratorSharedVariable(<Generator(PCG64) at 0x2CF1399C3C0>), TensorConstant{[]}, TensorConstant{11}, TensorConstant{0})\nToposort index: 0\nInputs types: [RandomGeneratorType, TensorType(int64, (0,)), TensorType(int64, ()), TensorType(int8, ())]\nInputs shapes: ['No shapes', (0,), (), ()]\nInputs strides: ['No strides', (0,), (), ()]\nInputs values: [Generator(PCG64) at 0x2CF1399C3C0, array([], dtype=int64), array(11, dtype=int64), array(0, dtype=int8)]\nOutputs clients: [['output'], ['output']]\n\nHINT: Re-running with most PyTensor optimizations disabled could provide a back-trace showing when this node was created. This can be done by setting the PyTensor flag 'optimizer=fast_compile'. If that does not work, PyTensor optimizations can be disabled with 'optimizer=None'.\nHINT: Use the PyTensor flag `exception_verbosity=high` for a debug print-out and storage map footprint of this Apply node."
     ]
    },
    {
     "data": {
      "image/png": "[encoded data removed]",
      "text/plain": [
       "<Figure size 800x600 with 1 Axes>"
      ]
     },
     "metadata": {},
     "output_type": "display_data"
    }
   ],
   "source": [
    "fig, ax = plt.subplots(figsize=(8, 6))\n",
    "ax.hist(pm.draw(beta, draws=1_000), color=\"C1\", bins=15)\n",
    "ax.set(title=\"Samples from a normal distribution using pymc\", ylabel=\"count\");"
   ]
  }
 ],
 "metadata": {
  "kernelspec": {
   "display_name": "Python 3 (ipykernel)",
   "language": "python",
   "name": "python3"
  },
  "language_info": {
   "codemirror_mode": {
    "name": "ipython",
    "version": 3
   },
   "file_extension": ".py",
   "mimetype": "text/x-python",
   "name": "python",
   "nbconvert_exporter": "python",
   "pygments_lexer": "ipython3",
   "version": "3.11.3"
  }
 },
 "nbformat": 4,
 "nbformat_minor": 5
}
